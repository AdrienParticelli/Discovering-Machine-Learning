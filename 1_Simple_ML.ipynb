{
 "cells": [
  {
   "cell_type": "markdown",
   "metadata": {},
   "source": [
    "# Machine Learning for noob\n",
    "\n",
    "Machine Learning (ML) is a branch of artificial intelligence that focuses on building systems that can learn from and make decisions based on data. In ML, algorithms are trained on large sets of data to recognize patterns and relationships. This training enables the algorithms to make predictions or take actions when they encounter new data.\n",
    "There are different types of ML, and each one has its particularity. In this notebook we will focus on Supervised and Unsupervised Learning : \n",
    "\n",
    "$\n",
    "\\begin{itemize}\n",
    "\\item \\bold{Supervised Learning: } the algorithm learns from labeled data (data with known answers)\n",
    "\\item \\bold{Unsupervised Learning: } the algorithm identifies patterns in data without any labels\n",
    "\\end{itemize}\n",
    "$\n",
    "\n",
    "The power of ML lies in its ability to improve automatically through experience, making it applicable in a wide range of fields like healthcare, finance, and technology."
   ]
  },
  {
   "cell_type": "code",
   "execution_count": null,
   "metadata": {
    "vscode": {
     "languageId": "plaintext"
    }
   },
   "outputs": [],
   "source": []
  }
 ],
 "metadata": {
  "language_info": {
   "name": "python"
  }
 },
 "nbformat": 4,
 "nbformat_minor": 2
}
